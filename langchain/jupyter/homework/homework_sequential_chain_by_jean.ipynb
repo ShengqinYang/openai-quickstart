{
 "cells": [
  {
   "cell_type": "markdown",
   "source": [
    "## Homework\n",
    "### 使用 OutputParser 优化 overall_chain 输出格式，区分 synopsis_chain 和 review_chain 的结果\n",
    "- 作业内容的样例有变更：\n",
    "- 课程内容是：\n",
    "    - synopsis_chain：你是一位剧作家。根据戏剧的标题，你的任务是为该标题写一个简介。\n",
    "    - review_chain：你是《纽约时报》的戏剧评论家。根据剧情简介，你的工作是为该剧撰写一篇评论。\n",
    "\n",
    "- 作业内容是：\n",
    "    - content_chain：你是一个游戏原画设计师，根据关键词生成一段内容描述信息。\n",
    "    - keywords_list_chain：根据的文本内容，生成原画关键词列表。\n"
   ],
   "metadata": {
    "collapsed": false
   }
  },
  {
   "cell_type": "code",
   "execution_count": 1,
   "outputs": [],
   "source": [
    "\n",
    "import os\n",
    "import openai\n",
    "from langchain.output_parsers import CommaSeparatedListOutputParser\n",
    "from langchain.chains import SequentialChain\n",
    "from langchain import OpenAI, PromptTemplate, LLMChain\n",
    "\n",
    "openai.api_key = os.getenv(\"OPENAI_API_KEY\")"
   ],
   "metadata": {
    "collapsed": false,
    "ExecuteTime": {
     "end_time": "2023-09-01T11:01:13.822769Z",
     "start_time": "2023-09-01T11:01:12.475739Z"
    }
   }
  },
  {
   "cell_type": "code",
   "execution_count": 2,
   "outputs": [],
   "source": [
    "output_parser = CommaSeparatedListOutputParser()\n",
    "\n",
    "llm = OpenAI(temperature=0.9, max_tokens=500, openai_api_key=openai.api_key)\n",
    "\n",
    "prompt_1 = PromptTemplate(template=\"你是一个游戏原画设计师，根据关键词生成一段内容描述信息，关键词：{keywords}\",\n",
    "                          input_variables=[\"keywords\"])\n",
    "\n",
    "prompt_2 = PromptTemplate(template=\"根据的文本内容，生成原画关键词列表。\\n文本内容：{text_content} \\n{output_prompt}\",\n",
    "                          input_variables=[\"text_content\"],\n",
    "                          partial_variables={\"output_prompt\": output_parser.get_format_instructions()})\n",
    "\n",
    "content_chain = LLMChain(llm=llm, prompt=prompt_1, output_key=\"text_content\", verbose=True)\n",
    "keywords_list_chain = LLMChain(llm=llm, prompt=prompt_2, output_key=\"keywords_list\", verbose=True)\n",
    "se_chain = SequentialChain(chains=[content_chain, keywords_list_chain], input_variables=[\"keywords\"],\n",
    "                           output_variables=[\"text_content\", \"keywords_list\"], verbose=True)"
   ],
   "metadata": {
    "collapsed": false,
    "ExecuteTime": {
     "end_time": "2023-09-01T11:01:16.050966Z",
     "start_time": "2023-09-01T11:01:16.047212Z"
    }
   }
  },
  {
   "cell_type": "code",
   "execution_count": 3,
   "outputs": [
    {
     "name": "stdout",
     "output_type": "stream",
     "text": [
      "\n",
      "\n",
      "\u001B[1m> Entering new SequentialChain chain...\u001B[0m\n",
      "\n",
      "\n",
      "\u001B[1m> Entering new LLMChain chain...\u001B[0m\n",
      "Prompt after formatting:\n",
      "\u001B[32;1m\u001B[1;3m你是一个游戏原画设计师，根据关键词生成一段内容描述信息，关键词：12岁的阳光少年\u001B[0m\n",
      "\n",
      "\u001B[1m> Finished chain.\u001B[0m\n",
      "\n",
      "\n",
      "\u001B[1m> Entering new LLMChain chain...\u001B[0m\n",
      "Prompt after formatting:\n",
      "\u001B[32;1m\u001B[1;3m根据的文本内容，生成原画关键词列表。\n",
      "文本内容：\n",
      "\n",
      "作为一个游戏原画设计师，我设计出一个有趣可爱的12岁阳光少年角色。他充满活力，目光充满激情，拥有温暖的脸庞，宽容的模样，深情的眼神、英俊的身体曲线和健康的衣着，彰显了青春期少年的纯真和活力。他的角色设定反映出他充满了孩子般的天真、乐观的态度，乐于奉献、勇敢坚毅，注重友谊与义气。 \n",
      "Your response should be a list of comma separated values, eg: `foo, bar, baz`\u001B[0m\n",
      "\n",
      "\u001B[1m> Finished chain.\u001B[0m\n",
      "\n",
      "\u001B[1m> Finished chain.\u001B[0m\n"
     ]
    }
   ],
   "source": [
    "result_se_chain = se_chain({\"keywords\": \"12岁的阳光少年\"})"
   ],
   "metadata": {
    "collapsed": false,
    "ExecuteTime": {
     "end_time": "2023-09-01T11:01:28.931789Z",
     "start_time": "2023-09-01T11:01:17.931370Z"
    }
   }
  },
  {
   "cell_type": "code",
   "execution_count": 4,
   "outputs": [
    {
     "data": {
      "text/plain": "['作为一个游戏原画设计师，我设计出一个有趣可爱的12岁阳光少年角色。他充满活力，目光充满激情，拥有温暖的脸庞，宽容的模样，深情的眼神、英俊的身体曲线和健康的衣着，彰显了青春期少年的纯真和活力。他的角色设定反映出他充满了孩子般的天真、乐观的态度，乐于奉献、勇敢坚毅，注重友谊与义气。']"
     },
     "execution_count": 4,
     "metadata": {},
     "output_type": "execute_result"
    }
   ],
   "source": [
    "output_parser.parse(result_se_chain.get(\"text_content\"))"
   ],
   "metadata": {
    "collapsed": false,
    "ExecuteTime": {
     "end_time": "2023-09-01T11:01:31.963685Z",
     "start_time": "2023-09-01T11:01:31.960062Z"
    }
   }
  },
  {
   "cell_type": "code",
   "execution_count": 5,
   "outputs": [
    {
     "data": {
      "text/plain": "['阳光少年',\n '活力',\n '激情',\n '温暖脸庞',\n '宽容模样',\n '深情眼神',\n '英俊身体曲线',\n '健康衣着',\n '青春期少年',\n '纯真',\n '孩子般天真',\n '乐观态度',\n '奉献',\n '勇敢坚毅',\n '友谊',\n '义气']"
     },
     "execution_count": 5,
     "metadata": {},
     "output_type": "execute_result"
    }
   ],
   "source": [
    "output_parser.parse(result_se_chain.get(\"keywords_list\"))"
   ],
   "metadata": {
    "collapsed": false,
    "ExecuteTime": {
     "end_time": "2023-09-01T11:01:33.560534Z",
     "start_time": "2023-09-01T11:01:33.544842Z"
    }
   }
  },
  {
   "cell_type": "code",
   "execution_count": null,
   "outputs": [],
   "source": [],
   "metadata": {
    "collapsed": false
   }
  }
 ],
 "metadata": {
  "kernelspec": {
   "display_name": "Python 3",
   "language": "python",
   "name": "python3"
  },
  "language_info": {
   "codemirror_mode": {
    "name": "ipython",
    "version": 2
   },
   "file_extension": ".py",
   "mimetype": "text/x-python",
   "name": "python",
   "nbconvert_exporter": "python",
   "pygments_lexer": "ipython2",
   "version": "2.7.6"
  }
 },
 "nbformat": 4,
 "nbformat_minor": 0
}
